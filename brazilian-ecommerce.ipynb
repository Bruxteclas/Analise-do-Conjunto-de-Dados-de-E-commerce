{
 "cells": [
  {
   "cell_type": "markdown",
   "id": "e92e43ad-9e28-4143-b999-aff927b7d7e6",
   "metadata": {},
   "source": [
    "# Análise do Conjunto de Dados de E-commerce\n",
    "\n",
    "## 1. Entendimento do Negócio\n",
    "### Objetivo do Projeto\n",
    "O objetivo deste projeto é analisar dados de um e-commerce brasileiro para entender o comportamento de compra dos clientes, identificar produtos mais vendidos, analisar a eficiência do processo de entrega e segmentar os clientes para estratégias de marketing mais eficazes.\n",
    "\n",
    "### Questões de Negócio\n",
    "1. Qual é o comportamento sazonal das vendas e como ele afeta o volume de compras ao longo do ano?\n",
    "2. Como podemos otimizar os tempos de entrega para melhorar a experiência do cliente?\n",
    "3. Como podemos recomendar produtos relevantes aos clientes com base em suas compras anteriores?\n",
    "4. Como podemos segmentar os clientes de forma eficaz para criar campanhas de marketing direcionadas?\n",
    "\n",
    "\n",
    "## 2. Entendimento dos Dados\n",
    "### DataFrames Disponíveis\n",
    "- `olist_customers_dataset.csv`\n",
    "- `olist_geolocation_dataset.csv`\n",
    "- `olist_orders_dataset.csv`\n",
    "- `olist_order_items_dataset.csv`\n",
    "- `olist_order_payments_dataset.csv`\n",
    "- `olist_order_reviews_dataset.csv`\n",
    "- `olist_products_dataset.csv`\n",
    "- `olist_sellers_dataset.csv`\n",
    "- `product_category_name_translation.csv`\n",
    "\n",
    "\n"
   ]
  },
  {
   "cell_type": "markdown",
   "id": "36f8ecf3-fdb0-4291-815e-a1fda6e10155",
   "metadata": {},
   "source": [
    "---"
   ]
  },
  {
   "cell_type": "markdown",
   "id": "d6b2c3dc-ed61-4e93-92cf-ea05ff342579",
   "metadata": {},
   "source": [
    "# 1. Processo de ETL"
   ]
  },
  {
   "cell_type": "code",
   "execution_count": 3,
   "id": "6bd07f35-5078-4df7-ad2d-130bfb368baa",
   "metadata": {},
   "outputs": [
    {
     "name": "stdout",
     "output_type": "stream",
     "text": [
      "Collecting kagglehub\n",
      "  Downloading kagglehub-0.3.3-py3-none-any.whl.metadata (22 kB)\n",
      "Requirement already satisfied: packaging in c:\\users\\user\\anaconda3\\lib\\site-packages (from kagglehub) (23.2)\n",
      "Requirement already satisfied: requests in c:\\users\\user\\anaconda3\\lib\\site-packages (from kagglehub) (2.32.2)\n",
      "Requirement already satisfied: tqdm in c:\\users\\user\\anaconda3\\lib\\site-packages (from kagglehub) (4.66.4)\n",
      "Requirement already satisfied: charset-normalizer<4,>=2 in c:\\users\\user\\anaconda3\\lib\\site-packages (from requests->kagglehub) (2.0.4)\n",
      "Requirement already satisfied: idna<4,>=2.5 in c:\\users\\user\\anaconda3\\lib\\site-packages (from requests->kagglehub) (3.7)\n",
      "Requirement already satisfied: urllib3<3,>=1.21.1 in c:\\users\\user\\anaconda3\\lib\\site-packages (from requests->kagglehub) (2.2.2)\n",
      "Requirement already satisfied: certifi>=2017.4.17 in c:\\users\\user\\anaconda3\\lib\\site-packages (from requests->kagglehub) (2024.6.2)\n",
      "Requirement already satisfied: colorama in c:\\users\\user\\anaconda3\\lib\\site-packages (from tqdm->kagglehub) (0.4.6)\n",
      "Downloading kagglehub-0.3.3-py3-none-any.whl (42 kB)\n",
      "   ---------------------------------------- 0.0/42.9 kB ? eta -:--:--\n",
      "   ------------------- -------------------- 20.5/42.9 kB 640.0 kB/s eta 0:00:01\n",
      "   ---------------------------------------- 42.9/42.9 kB 418.1 kB/s eta 0:00:00\n",
      "Installing collected packages: kagglehub\n",
      "Successfully installed kagglehub-0.3.3\n"
     ]
    }
   ],
   "source": [
    "!pip install kagglehub"
   ]
  },
  {
   "cell_type": "code",
   "execution_count": 6,
   "id": "14a34a6b-64fe-4f6d-81a2-1cd565f97dfa",
   "metadata": {},
   "outputs": [
    {
     "name": "stdout",
     "output_type": "stream",
     "text": [
      "Path to dataset files: C:\\Users\\User\\.cache\\kagglehub\\datasets\\olistbr\\brazilian-ecommerce\\versions\\2\n"
     ]
    }
   ],
   "source": [
    "import kagglehub\n",
    "\n",
    "# Download do dataset\n",
    "path = kagglehub.dataset_download(\"olistbr/brazilian-ecommerce\")\n",
    "\n",
    "print(\"Path to dataset files:\", path)"
   ]
  },
  {
   "cell_type": "markdown",
   "id": "c8950008-36e4-440f-a9da-db58e009aca0",
   "metadata": {},
   "source": [
    "### Carregando os dados"
   ]
  },
  {
   "cell_type": "code",
   "execution_count": 14,
   "id": "fbab6a62-a379-4237-97ad-8622060a58c9",
   "metadata": {},
   "outputs": [
    {
     "name": "stdout",
     "output_type": "stream",
     "text": [
      "Customers:\n",
      "                        customer_id                customer_unique_id  \\\n",
      "0  06b8999e2fba1a1fbc88172c00ba8bc7  861eff4711a542e4b93843c6dd7febb0   \n",
      "1  18955e83d337fd6b2def6b18a428ac77  290c77bc529b7ac935b93aa66c333dc3   \n",
      "2  4e7b3e00288586ebd08712fdd0374a03  060e732b5b29e8181a18229c7b0b2b5e   \n",
      "3  b2b6027bc5c5109e529d4dc6358b12c3  259dac757896d24d7702b9acbbff3f3c   \n",
      "4  4f2d8ab171c80ec8364f7c12e35b23ad  345ecd01c38d18a9036ed96c73b8d066   \n",
      "\n",
      "   customer_zip_code_prefix          customer_city customer_state  \n",
      "0                     14409                 franca             SP  \n",
      "1                      9790  sao bernardo do campo             SP  \n",
      "2                      1151              sao paulo             SP  \n",
      "3                      8775        mogi das cruzes             SP  \n",
      "4                     13056               campinas             SP   \n",
      "\n",
      "Geolocation:\n",
      "   geolocation_zip_code_prefix  geolocation_lat  geolocation_lng  \\\n",
      "0                         1037       -23.545621       -46.639292   \n",
      "1                         1046       -23.546081       -46.644820   \n",
      "2                         1046       -23.546129       -46.642951   \n",
      "3                         1041       -23.544392       -46.639499   \n",
      "4                         1035       -23.541578       -46.641607   \n",
      "\n",
      "  geolocation_city geolocation_state  \n",
      "0        sao paulo                SP  \n",
      "1        sao paulo                SP  \n",
      "2        sao paulo                SP  \n",
      "3        sao paulo                SP  \n",
      "4        sao paulo                SP   \n",
      "\n",
      "Orders:\n",
      "                           order_id                       customer_id  \\\n",
      "0  e481f51cbdc54678b7cc49136f2d6af7  9ef432eb6251297304e76186b10a928d   \n",
      "1  53cdb2fc8bc7dce0b6741e2150273451  b0830fb4747a6c6d20dea0b8c802d7ef   \n",
      "2  47770eb9100c2d0c44946d9cf07ec65d  41ce2a54c0b03bf3443c3d931a367089   \n",
      "3  949d5b44dbf5de918fe9c16f97b45f8a  f88197465ea7920adcdbec7375364d82   \n",
      "4  ad21c59c0840e6cb83a9ceb5573f8159  8ab97904e6daea8866dbdbc4fb7aad2c   \n",
      "\n",
      "  order_status order_purchase_timestamp    order_approved_at  \\\n",
      "0    delivered      2017-10-02 10:56:33  2017-10-02 11:07:15   \n",
      "1    delivered      2018-07-24 20:41:37  2018-07-26 03:24:27   \n",
      "2    delivered      2018-08-08 08:38:49  2018-08-08 08:55:23   \n",
      "3    delivered      2017-11-18 19:28:06  2017-11-18 19:45:59   \n",
      "4    delivered      2018-02-13 21:18:39  2018-02-13 22:20:29   \n",
      "\n",
      "  order_delivered_carrier_date order_delivered_customer_date  \\\n",
      "0          2017-10-04 19:55:00           2017-10-10 21:25:13   \n",
      "1          2018-07-26 14:31:00           2018-08-07 15:27:45   \n",
      "2          2018-08-08 13:50:00           2018-08-17 18:06:29   \n",
      "3          2017-11-22 13:39:59           2017-12-02 00:28:42   \n",
      "4          2018-02-14 19:46:34           2018-02-16 18:17:02   \n",
      "\n",
      "  order_estimated_delivery_date  \n",
      "0           2017-10-18 00:00:00  \n",
      "1           2018-08-13 00:00:00  \n",
      "2           2018-09-04 00:00:00  \n",
      "3           2017-12-15 00:00:00  \n",
      "4           2018-02-26 00:00:00   \n",
      "\n",
      "Order Items:\n",
      "                           order_id  order_item_id  \\\n",
      "0  00010242fe8c5a6d1ba2dd792cb16214              1   \n",
      "1  00018f77f2f0320c557190d7a144bdd3              1   \n",
      "2  000229ec398224ef6ca0657da4fc703e              1   \n",
      "3  00024acbcdf0a6daa1e931b038114c75              1   \n",
      "4  00042b26cf59d7ce69dfabb4e55b4fd9              1   \n",
      "\n",
      "                         product_id                         seller_id  \\\n",
      "0  4244733e06e7ecb4970a6e2683c13e61  48436dade18ac8b2bce089ec2a041202   \n",
      "1  e5f2d52b802189ee658865ca93d83a8f  dd7ddc04e1b6c2c614352b383efe2d36   \n",
      "2  c777355d18b72b67abbeef9df44fd0fd  5b51032eddd242adc84c38acab88f23d   \n",
      "3  7634da152a4610f1595efa32f14722fc  9d7a1d34a5052409006425275ba1c2b4   \n",
      "4  ac6c3623068f30de03045865e4e10089  df560393f3a51e74553ab94004ba5c87   \n",
      "\n",
      "   shipping_limit_date   price  freight_value  \n",
      "0  2017-09-19 09:45:35   58.90          13.29  \n",
      "1  2017-05-03 11:05:13  239.90          19.93  \n",
      "2  2018-01-18 14:48:30  199.00          17.87  \n",
      "3  2018-08-15 10:10:18   12.99          12.79  \n",
      "4  2017-02-13 13:57:51  199.90          18.14   \n",
      "\n",
      "Order Payments:\n",
      "                           order_id  payment_sequential payment_type  \\\n",
      "0  b81ef226f3fe1789b1e8b2acac839d17                   1  credit_card   \n",
      "1  a9810da82917af2d9aefd1278f1dcfa0                   1  credit_card   \n",
      "2  25e8ea4e93396b6fa0d3dd708e76c1bd                   1  credit_card   \n",
      "3  ba78997921bbcdc1373bb41e913ab953                   1  credit_card   \n",
      "4  42fdf880ba16b47b59251dd489d4441a                   1  credit_card   \n",
      "\n",
      "   payment_installments  payment_value  \n",
      "0                     8          99.33  \n",
      "1                     1          24.39  \n",
      "2                     1          65.71  \n",
      "3                     8         107.78  \n",
      "4                     2         128.45   \n",
      "\n",
      "Order Reviews:\n",
      "                          review_id                          order_id  \\\n",
      "0  7bc2406110b926393aa56f80a40eba40  73fc7af87114b39712e6da79b0a377eb   \n",
      "1  80e641a11e56f04c1ad469d5645fdfde  a548910a1c6147796b98fdf73dbeba33   \n",
      "2  228ce5500dc1d8e020d8d1322874b6f0  f9e4b658b201a9f2ecdecbb34bed034b   \n",
      "3  e64fb393e7b32834bb789ff8bb30750e  658677c97b385a9be170737859d3511b   \n",
      "4  f7c4243c7fe1938f181bec41a392bdeb  8e6bfb81e283fa7e4f11123a3fb894f1   \n",
      "\n",
      "   review_score review_comment_title  \\\n",
      "0             4                  NaN   \n",
      "1             5                  NaN   \n",
      "2             5                  NaN   \n",
      "3             5                  NaN   \n",
      "4             5                  NaN   \n",
      "\n",
      "                              review_comment_message review_creation_date  \\\n",
      "0                                                NaN  2018-01-18 00:00:00   \n",
      "1                                                NaN  2018-03-10 00:00:00   \n",
      "2                                                NaN  2018-02-17 00:00:00   \n",
      "3              Recebi bem antes do prazo estipulado.  2017-04-21 00:00:00   \n",
      "4  Parabéns lojas lannister adorei comprar pela I...  2018-03-01 00:00:00   \n",
      "\n",
      "  review_answer_timestamp  \n",
      "0     2018-01-18 21:46:59  \n",
      "1     2018-03-11 03:05:13  \n",
      "2     2018-02-18 14:36:24  \n",
      "3     2017-04-21 22:02:06  \n",
      "4     2018-03-02 10:26:53   \n",
      "\n",
      "Products:\n",
      "                         product_id  product_category_name  \\\n",
      "0  1e9e8ef04dbcff4541ed26657ea517e5             perfumaria   \n",
      "1  3aa071139cb16b67ca9e5dea641aaa2f                  artes   \n",
      "2  96bd76ec8810374ed1b65e291975717f          esporte_lazer   \n",
      "3  cef67bcfe19066a932b7673e239eb23d                  bebes   \n",
      "4  9dc1a7de274444849c219cff195d0b71  utilidades_domesticas   \n",
      "\n",
      "   product_name_lenght  product_description_lenght  product_photos_qty  \\\n",
      "0                 40.0                       287.0                 1.0   \n",
      "1                 44.0                       276.0                 1.0   \n",
      "2                 46.0                       250.0                 1.0   \n",
      "3                 27.0                       261.0                 1.0   \n",
      "4                 37.0                       402.0                 4.0   \n",
      "\n",
      "   product_weight_g  product_length_cm  product_height_cm  product_width_cm  \n",
      "0             225.0               16.0               10.0              14.0  \n",
      "1            1000.0               30.0               18.0              20.0  \n",
      "2             154.0               18.0                9.0              15.0  \n",
      "3             371.0               26.0                4.0              26.0  \n",
      "4             625.0               20.0               17.0              13.0   \n",
      "\n",
      "Sellers:\n",
      "                          seller_id  seller_zip_code_prefix  \\\n",
      "0  3442f8959a84dea7ee197c632cb2df15                   13023   \n",
      "1  d1b65fc7debc3361ea86b5f14c68d2e2                   13844   \n",
      "2  ce3ad9de960102d0677a81f5d0bb7b2d                   20031   \n",
      "3  c0f3eea2e14555b6faeea3dd58c1b1c3                    4195   \n",
      "4  51a04a8a6bdcb23deccc82b0b80742cf                   12914   \n",
      "\n",
      "         seller_city seller_state  \n",
      "0           campinas           SP  \n",
      "1         mogi guacu           SP  \n",
      "2     rio de janeiro           RJ  \n",
      "3          sao paulo           SP  \n",
      "4  braganca paulista           SP   \n",
      "\n",
      "Category Translation:\n",
      "    product_category_name product_category_name_english\n",
      "0            beleza_saude                 health_beauty\n",
      "1  informatica_acessorios         computers_accessories\n",
      "2              automotivo                          auto\n",
      "3         cama_mesa_banho                bed_bath_table\n",
      "4        moveis_decoracao               furniture_decor \n",
      "\n"
     ]
    }
   ],
   "source": [
    "import pandas as pd\n",
    "import os\n",
    "\n",
    "# Carregar os arquivos CSV usando o 'path' fornecido pelo kagglehub\n",
    "customers = pd.read_csv(os.path.join(path, 'olist_customers_dataset.csv'))\n",
    "geolocation = pd.read_csv(os.path.join(path, 'olist_geolocation_dataset.csv'))\n",
    "orders = pd.read_csv(os.path.join(path, 'olist_orders_dataset.csv'))\n",
    "order_items = pd.read_csv(os.path.join(path, 'olist_order_items_dataset.csv'))\n",
    "order_payments = pd.read_csv(os.path.join(path, 'olist_order_payments_dataset.csv'))\n",
    "order_reviews = pd.read_csv(os.path.join(path, 'olist_order_reviews_dataset.csv'))\n",
    "products = pd.read_csv(os.path.join(path, 'olist_products_dataset.csv'))\n",
    "sellers = pd.read_csv(os.path.join(path, 'olist_sellers_dataset.csv'))\n",
    "category_translation = pd.read_csv(os.path.join(path, 'product_category_name_translation.csv'))\n",
    "\n",
    "# Exibir as primeiras linhas de cada dataframe\n",
    "print(\"Customers:\")\n",
    "print(customers.head(), \"\\n\")\n",
    "\n",
    "print(\"Geolocation:\")\n",
    "print(geolocation.head(), \"\\n\")\n",
    "\n",
    "print(\"Orders:\")\n",
    "print(orders.head(), \"\\n\")\n",
    "\n",
    "print(\"Order Items:\")\n",
    "print(order_items.head(), \"\\n\")\n",
    "\n",
    "print(\"Order Payments:\")\n",
    "print(order_payments.head(), \"\\n\")\n",
    "\n",
    "print(\"Order Reviews:\")\n",
    "print(order_reviews.head(), \"\\n\")\n",
    "\n",
    "print(\"Products:\")\n",
    "print(products.head(), \"\\n\")\n",
    "\n",
    "print(\"Sellers:\")\n",
    "print(sellers.head(), \"\\n\")\n",
    "\n",
    "print(\"Category Translation:\")\n",
    "print(category_translation.head(), \"\\n\")\n"
   ]
  },
  {
   "cell_type": "code",
   "execution_count": 16,
   "id": "8b8972ae-f992-4d22-bb1a-8b506f459ed2",
   "metadata": {},
   "outputs": [],
   "source": [
    "# Criar um dicionário de DataFrames\n",
    "dataframes = {\n",
    "    'customers': customers,\n",
    "    'geolocation': geolocation,\n",
    "    'orders': orders,\n",
    "    'order_items': order_items,\n",
    "    'order_payments': order_payments,\n",
    "    'order_reviews': order_reviews,\n",
    "    'products': products,\n",
    "    'sellers': sellers,\n",
    "    'category_translation': category_translation\n",
    "}"
   ]
  },
  {
   "cell_type": "markdown",
   "id": "dccefdf6-58da-421b-9f21-6e93e6c8460a",
   "metadata": {},
   "source": [
    "# Limpeza e tratamento dos dados"
   ]
  },
  {
   "cell_type": "code",
   "execution_count": 18,
   "id": "fe66bf85-3ad5-4948-81c2-39145ace3c6a",
   "metadata": {},
   "outputs": [
    {
     "name": "stdout",
     "output_type": "stream",
     "text": [
      "Valores ausentes no dataframe 'customers':\n",
      "customer_id                 0\n",
      "customer_unique_id          0\n",
      "customer_zip_code_prefix    0\n",
      "customer_city               0\n",
      "customer_state              0\n",
      "dtype: int64 \n",
      "\n",
      "Valores ausentes no dataframe 'geolocation':\n",
      "geolocation_zip_code_prefix    0\n",
      "geolocation_lat                0\n",
      "geolocation_lng                0\n",
      "geolocation_city               0\n",
      "geolocation_state              0\n",
      "dtype: int64 \n",
      "\n",
      "Valores ausentes no dataframe 'orders':\n",
      "order_id                            0\n",
      "customer_id                         0\n",
      "order_status                        0\n",
      "order_purchase_timestamp            0\n",
      "order_approved_at                 160\n",
      "order_delivered_carrier_date     1783\n",
      "order_delivered_customer_date    2965\n",
      "order_estimated_delivery_date       0\n",
      "dtype: int64 \n",
      "\n",
      "Valores ausentes no dataframe 'order_items':\n",
      "order_id               0\n",
      "order_item_id          0\n",
      "product_id             0\n",
      "seller_id              0\n",
      "shipping_limit_date    0\n",
      "price                  0\n",
      "freight_value          0\n",
      "dtype: int64 \n",
      "\n",
      "Valores ausentes no dataframe 'order_payments':\n",
      "order_id                0\n",
      "payment_sequential      0\n",
      "payment_type            0\n",
      "payment_installments    0\n",
      "payment_value           0\n",
      "dtype: int64 \n",
      "\n",
      "Valores ausentes no dataframe 'order_reviews':\n",
      "review_id                      0\n",
      "order_id                       0\n",
      "review_score                   0\n",
      "review_comment_title       87656\n",
      "review_comment_message     58247\n",
      "review_creation_date           0\n",
      "review_answer_timestamp        0\n",
      "dtype: int64 \n",
      "\n",
      "Valores ausentes no dataframe 'products':\n",
      "product_id                      0\n",
      "product_category_name         610\n",
      "product_name_lenght           610\n",
      "product_description_lenght    610\n",
      "product_photos_qty            610\n",
      "product_weight_g                2\n",
      "product_length_cm               2\n",
      "product_height_cm               2\n",
      "product_width_cm                2\n",
      "dtype: int64 \n",
      "\n",
      "Valores ausentes no dataframe 'sellers':\n",
      "seller_id                 0\n",
      "seller_zip_code_prefix    0\n",
      "seller_city               0\n",
      "seller_state              0\n",
      "dtype: int64 \n",
      "\n",
      "Valores ausentes no dataframe 'category_translation':\n",
      "product_category_name            0\n",
      "product_category_name_english    0\n",
      "dtype: int64 \n",
      "\n"
     ]
    }
   ],
   "source": [
    "# Verificar valores ausentes em todos os dataframes\n",
    "for name, df in dataframes.items():\n",
    "    print(f\"Valores ausentes no dataframe '{name}':\")\n",
    "    print(df.isna().sum(), \"\\n\")\n"
   ]
  },
  {
   "cell_type": "code",
   "execution_count": 20,
   "id": "5db9958f-a398-4d02-9ea0-883b3eaa7545",
   "metadata": {},
   "outputs": [
    {
     "name": "stdout",
     "output_type": "stream",
     "text": [
      "Duplicatas removidas no dataframe 'customers'.\n",
      "Duplicatas removidas no dataframe 'geolocation'.\n",
      "Duplicatas removidas no dataframe 'orders'.\n",
      "Duplicatas removidas no dataframe 'order_items'.\n",
      "Duplicatas removidas no dataframe 'order_payments'.\n",
      "Duplicatas removidas no dataframe 'order_reviews'.\n",
      "Duplicatas removidas no dataframe 'products'.\n",
      "Duplicatas removidas no dataframe 'sellers'.\n",
      "Duplicatas removidas no dataframe 'category_translation'.\n"
     ]
    }
   ],
   "source": [
    "# Remover duplicatas de todos os dataframes\n",
    "for name, df in dataframes.items():\n",
    "    df.drop_duplicates(inplace=True)\n",
    "    print(f\"Duplicatas removidas no dataframe '{name}'.\")\n"
   ]
  },
  {
   "cell_type": "code",
   "execution_count": 22,
   "id": "e5119fe8-4c83-448f-adea-a1439d2f6715",
   "metadata": {},
   "outputs": [
    {
     "name": "stdout",
     "output_type": "stream",
     "text": [
      "Datas no dataframe 'orders' padronizadas.\n"
     ]
    }
   ],
   "source": [
    "# Padronizar datas no dataframe 'orders'\n",
    "dataframes['orders']['order_purchase_timestamp'] = pd.to_datetime(dataframes['orders']['order_purchase_timestamp'])\n",
    "dataframes['orders']['order_approved_at'] = pd.to_datetime(dataframes['orders']['order_approved_at'])\n",
    "dataframes['orders']['order_delivered_customer_date'] = pd.to_datetime(dataframes['orders']['order_delivered_customer_date'])\n",
    "dataframes['orders']['order_delivered_carrier_date'] = pd.to_datetime(dataframes['orders']['order_delivered_carrier_date'])\n",
    "dataframes['orders']['order_estimated_delivery_date'] = pd.to_datetime(dataframes['orders']['order_estimated_delivery_date'])\n",
    "\n",
    "print(\"Datas no dataframe 'orders' padronizadas.\")\n"
   ]
  },
  {
   "cell_type": "markdown",
   "id": "34b0b981-d4ab-4b78-94d3-cb26b129a983",
   "metadata": {},
   "source": [
    "---"
   ]
  },
  {
   "cell_type": "markdown",
   "id": "2056bb92-3bdc-4c0e-9c22-5708bb169c7c",
   "metadata": {},
   "source": [
    "# 2. Análise exploratória"
   ]
  },
  {
   "cell_type": "markdown",
   "id": "28cb41fb-4c21-4209-a6ff-4bba84925f56",
   "metadata": {},
   "source": [
    "---"
   ]
  },
  {
   "cell_type": "markdown",
   "id": "0a57c50c-376f-41ad-a447-d115b3c9cbde",
   "metadata": {},
   "source": [
    "# Comportamento Sazonal das Vendas (Estatística):\n",
    "\n",
    "- Pergunta: Qual é o comportamento sazonal das vendas e como ele afeta o volume de compras ao longo do ano?\n",
    "- Objetivo: Identificar padrões de venda ao longo do ano, como picos em determinadas épocas (ex.: Black Friday, Natal).\n"
   ]
  },
  {
   "cell_type": "code",
   "execution_count": 29,
   "id": "d11cbbec-cba8-41f8-88ea-b31ffb582cc3",
   "metadata": {},
   "outputs": [
    {
     "data": {
      "image/png": "[encoded data removed]",
      "text/plain": [
       "<Figure size 1200x600 with 1 Axes>"
      ]
     },
     "metadata": {},
     "output_type": "display_data"
    }
   ],
   "source": [
    "import matplotlib.pyplot as plt\n",
    "\n",
    "# Extrair mês e ano da coluna de compra\n",
    "dataframes['orders']['order_purchase_month'] = dataframes['orders']['order_purchase_timestamp'].dt.to_period('M')\n",
    "\n",
    "# Contar o número de pedidos por mês\n",
    "monthly_sales = dataframes['orders'].groupby('order_purchase_month').size()\n",
    "\n",
    "# Plotar o gráfico de vendas mensais\n",
    "plt.figure(figsize=(12,6))\n",
    "monthly_sales.plot(kind='line', marker='o')\n",
    "plt.title('Número de Pedidos por Mês')\n",
    "plt.xlabel('Mês/Ano')\n",
    "plt.ylabel('Número de Pedidos')\n",
    "plt.grid(True)\n",
    "plt.show()\n"
   ]
  },
  {
   "cell_type": "markdown",
   "id": "2ea74306-5522-46d8-a623-6e8df21495b2",
   "metadata": {},
   "source": [
    "### Insigths:\n",
    "\n",
    "O número de pedidos teve um crescimento expressivo no início de 2017, mantendo-se em alta até o final do ano, aonde acontece as ofertas de Black Friday. Em 2018, o volume de pedidos mostrou uma tendência de estabilização, com pequenas variações mensais. No entanto, no final de 2018, houve uma queda drástica no número de pedidos, o que pode indicar uma mudança significativa nas operações ou no mercado. Isso sugere que pode ser interessante investigar as causas dessa queda e considerar estratégias para recuperar o volume de pedidos ou ajustar o foco do negócio.\n",
    "\n",
    "\n"
   ]
  },
  {
   "cell_type": "markdown",
   "id": "fc304b5e-334e-452c-8fce-c55f47051dbc",
   "metadata": {},
   "source": [
    "## Correlacionar o Comportamento de Vendas com Métodos de Pagamento\n",
    "Vamos primeiro observar o uso dos métodos de pagamento ao longo do tempo e se há alguma correlação com os picos e quedas nas vendas:"
   ]
  },
  {
   "cell_type": "code",
   "execution_count": 33,
   "id": "9df55101-7d57-4740-9052-1034fcb83721",
   "metadata": {},
   "outputs": [
    {
     "data": {
      "image/png": "[encoded data removed]",
      "text/plain": [
       "<Figure size 1200x600 with 1 Axes>"
      ]
     },
     "metadata": {},
     "output_type": "display_data"
    }
   ],
   "source": [
    "# Mesclar os dados de 'orders' com 'order_payments'\n",
    "orders_payments = pd.merge(dataframes['orders'], dataframes['order_payments'], on='order_id')\n",
    "\n",
    "# Agrupar os métodos de pagamento por mês\n",
    "payment_methods_by_month = orders_payments.groupby([orders_payments['order_purchase_timestamp'].dt.to_period('M'), 'payment_type']).size().unstack()\n",
    "\n",
    "# Plotar os métodos de pagamento por mês\n",
    "payment_methods_by_month.plot(kind='line', figsize=(12,6), marker='o')\n",
    "plt.title('Métodos de Pagamento ao Longo do Tempo')\n",
    "plt.xlabel('Mês/Ano')\n",
    "plt.ylabel('Número de Pagamentos')\n",
    "plt.grid(True)\n",
    "plt.show()\n"
   ]
  },
  {
   "cell_type": "markdown",
   "id": "ce5933fd-4afa-43e9-a464-f6096679e754",
   "metadata": {},
   "source": [
    "## Insigths: \n",
    "\n",
    "- **Cartão de crédito domina**: O cartão de crédito é, de longe, o método de pagamento mais utilizado pelos clientes, com um crescimento forte, especialmente a partir de 2017.\n",
    "\n",
    "- **Boleto tem seu espaço**: O boleto é o segundo método mais popular, crescendo de forma mais estável. Ele parece atrair um público mais tradicional ou sem acesso a crédito.\n",
    "\n",
    "- **Outros métodos pouco usados**: Métodos como débito e voucher são raramente utilizados e têm um uso estável, mas pouco expressivo.\n",
    "\n",
    "- **Crescimento geral de pagamentos**: Há um aumento geral nos pagamentos ao longo do tempo, com picos que podem coincidir com datas sazonais e campanhas promocionais."
   ]
  },
  {
   "cell_type": "markdown",
   "id": "f8a71b40-f252-4810-9a3a-cd9ae6cde07c",
   "metadata": {},
   "source": [
    "# Correlacionar o Comportamento de Vendas com Fretes\n",
    "Agora vamos verificar se o valor do frete teve impacto sobre as vendas:"
   ]
  },
  {
   "cell_type": "code",
   "execution_count": 35,
   "id": "064a5bdb-7bae-4fe8-89c9-ae28e0bb4da3",
   "metadata": {},
   "outputs": [
    {
     "data": {
      "image/png": "[encoded data removed]",
      "text/plain": [
       "<Figure size 1200x600 with 1 Axes>"
      ]
     },
     "metadata": {},
     "output_type": "display_data"
    }
   ],
   "source": [
    "# Mesclar os dados de 'orders' com 'order_items'\n",
    "orders_items = pd.merge(dataframes['orders'], dataframes['order_items'], on='order_id')\n",
    "\n",
    "# Agrupar o valor do frete por mês\n",
    "freight_by_month = orders_items.groupby(orders_items['order_purchase_timestamp'].dt.to_period('M'))['freight_value'].mean()\n",
    "\n",
    "# Plotar o valor médio do frete por mês\n",
    "plt.figure(figsize=(12,6))\n",
    "freight_by_month.plot(kind='line', marker='o')\n",
    "plt.title('Valor Médio do Frete ao Longo do Tempo')\n",
    "plt.xlabel('Mês/Ano')\n",
    "plt.ylabel('Frete Médio (R$)')\n",
    "plt.grid(True)\n",
    "plt.show()\n"
   ]
  },
  {
   "cell_type": "markdown",
   "id": "917685ae-c5a5-43bd-a64d-3cb8900e288a",
   "metadata": {},
   "source": [
    "## Insigths:\n",
    "\n",
    "O frete teve uma queda inesperada no início de 2017, mas logo se recuperou e manteve-se estável ao longo do ano. Em 2018, vemos uma tendência de alta no valor médio do frete, possivelmente indicando aumentos nos custos logísticos. Isso sugere que pode ser interessante investigar os fatores por trás dessas variações e pensar em estratégias de mitigação de custos.\n"
   ]
  },
  {
   "cell_type": "markdown",
   "id": "8a7ab180-8901-4749-ae10-3199bd400bf2",
   "metadata": {},
   "source": [
    "## Segmentação de Clientes:\n",
    "\n",
    "Realizar uma segmentação dos clientes com base no método de pagamento, para verificar se existem perfis de clientes que preferem pagar com boletos, cartões de crédito ou outros métodos, e adaptar campanhas de marketing de acordo."
   ]
  },
  {
   "cell_type": "code",
   "execution_count": 50,
   "id": "230149ca-6e37-4162-8b18-122f5a2bb8be",
   "metadata": {},
   "outputs": [
    {
     "name": "stdout",
     "output_type": "stream",
     "text": [
      "<bound method NDFrame.head of                              customer_id                customer_unique_id  \\\n",
      "0       06b8999e2fba1a1fbc88172c00ba8bc7  861eff4711a542e4b93843c6dd7febb0   \n",
      "1       18955e83d337fd6b2def6b18a428ac77  290c77bc529b7ac935b93aa66c333dc3   \n",
      "2       4e7b3e00288586ebd08712fdd0374a03  060e732b5b29e8181a18229c7b0b2b5e   \n",
      "3       b2b6027bc5c5109e529d4dc6358b12c3  259dac757896d24d7702b9acbbff3f3c   \n",
      "4       4f2d8ab171c80ec8364f7c12e35b23ad  345ecd01c38d18a9036ed96c73b8d066   \n",
      "...                                  ...                               ...   \n",
      "103881  17ddf5dd5d51696bb3d7c6291687be6f  1a29b476fee25c95fbafc67c5ac95cf8   \n",
      "103882  e7b71a9017aa05c9a7fd292d714858e8  d52a67c98be1cf6a5c84435bd38d095d   \n",
      "103883  5e28dfe12db7fb50a4b2f691faecea5e  e9f50caf99f032f0bf3c55141f019d99   \n",
      "103884  56b18e2166679b8a959d72dd06da27f9  73c2643a0a458b49f58cea58833b192e   \n",
      "103885  274fa6071e5e17fe303b9748641082c8  84732c5050c01db9b23e19ba39899398   \n",
      "\n",
      "        customer_zip_code_prefix          customer_city customer_state  \\\n",
      "0                          14409                 franca             SP   \n",
      "1                           9790  sao bernardo do campo             SP   \n",
      "2                           1151              sao paulo             SP   \n",
      "3                           8775        mogi das cruzes             SP   \n",
      "4                          13056               campinas             SP   \n",
      "...                          ...                    ...            ...   \n",
      "103881                      3937              sao paulo             SP   \n",
      "103882                      6764        taboao da serra             SP   \n",
      "103883                     60115              fortaleza             CE   \n",
      "103884                     92120                 canoas             RS   \n",
      "103885                      6703                  cotia             SP   \n",
      "\n",
      "                                order_id order_status  \\\n",
      "0       00e7ee1b050b8499577073aeb2a297a1    delivered   \n",
      "1       29150127e6685892b6eab3eec79f59c7    delivered   \n",
      "2       b2059ed67ce144a36e2aa97d2c9e9ad2    delivered   \n",
      "3       951670f92359f4fe4a63112aa7306eba    delivered   \n",
      "4       6b7d50bd145f6fc7f33cebabd7e49d0f    delivered   \n",
      "...                                  ...          ...   \n",
      "103881  6760e20addcf0121e9d58f2f1ff14298    delivered   \n",
      "103882  9ec0c8947d973db4f4e8dcf1fbfa8f1b    delivered   \n",
      "103883  fed4434add09a6f332ea398efd656a5c    delivered   \n",
      "103884  e31ec91cea1ecf97797787471f98a8c2    delivered   \n",
      "103885  28db69209a75e59f20ccbb5c36a20b90    delivered   \n",
      "\n",
      "       order_purchase_timestamp   order_approved_at  \\\n",
      "0           2017-05-16 15:05:35 2017-05-16 15:22:12   \n",
      "1           2018-01-12 20:48:24 2018-01-12 20:58:32   \n",
      "2           2018-05-19 16:07:45 2018-05-20 16:19:10   \n",
      "3           2018-03-13 16:06:38 2018-03-13 17:29:19   \n",
      "4           2018-07-29 09:51:30 2018-07-29 10:10:09   \n",
      "...                         ...                 ...   \n",
      "103881      2018-04-07 15:48:17 2018-04-07 16:08:45   \n",
      "103882      2018-04-04 08:20:22 2018-04-04 08:35:12   \n",
      "103883      2018-04-08 20:11:50 2018-04-08 20:30:03   \n",
      "103884      2017-11-03 21:08:33 2017-11-03 21:31:20   \n",
      "103885      2017-12-19 14:27:23 2017-12-19 18:50:39   \n",
      "\n",
      "       order_delivered_carrier_date order_delivered_customer_date  \\\n",
      "0               2017-05-23 10:47:57           2017-05-25 10:35:35   \n",
      "1               2018-01-15 17:14:59           2018-01-29 12:41:19   \n",
      "2               2018-06-11 14:31:00           2018-06-14 17:58:51   \n",
      "3               2018-03-27 23:22:42           2018-03-28 16:04:25   \n",
      "4               2018-07-30 15:16:00           2018-08-09 20:55:48   \n",
      "...                             ...                           ...   \n",
      "103881          2018-04-11 02:08:36           2018-04-13 20:06:37   \n",
      "103882          2018-04-05 18:42:35           2018-04-11 18:54:45   \n",
      "103883          2018-04-09 17:52:17           2018-05-09 19:03:15   \n",
      "103884          2017-11-06 18:24:41           2017-11-16 19:58:39   \n",
      "103885          2017-12-21 19:17:21           2017-12-26 18:42:36   \n",
      "\n",
      "       order_estimated_delivery_date order_purchase_month  payment_sequential  \\\n",
      "0                         2017-06-05              2017-05                   1   \n",
      "1                         2018-02-06              2018-01                   1   \n",
      "2                         2018-06-13              2018-05                   1   \n",
      "3                         2018-04-10              2018-03                   1   \n",
      "4                         2018-08-15              2018-07                   1   \n",
      "...                              ...                  ...                 ...   \n",
      "103881                    2018-04-25              2018-04                   1   \n",
      "103882                    2018-04-20              2018-04                   1   \n",
      "103883                    2018-05-02              2018-04                   1   \n",
      "103884                    2017-12-05              2017-11                   1   \n",
      "103885                    2018-01-08              2017-12                   1   \n",
      "\n",
      "       payment_type  payment_installments  payment_value  \n",
      "0       credit_card                     2         146.87  \n",
      "1       credit_card                     8         335.48  \n",
      "2       credit_card                     7         157.73  \n",
      "3       credit_card                     1         173.30  \n",
      "4       credit_card                     8         252.25  \n",
      "...             ...                   ...            ...  \n",
      "103881  credit_card                     6          88.78  \n",
      "103882  credit_card                     3         129.06  \n",
      "103883  credit_card                     5          56.04  \n",
      "103884  credit_card                     2         711.07  \n",
      "103885  credit_card                     1          21.77  \n",
      "\n",
      "[103886 rows x 17 columns]>\n"
     ]
    }
   ],
   "source": [
    "# Combinar os dados de pedidos com os métodos de pagamento\n",
    "orders_payments = pd.merge(orders, order_payments, on='order_id', how='inner')\n",
    "\n",
    "# Agora, combinar os dados de clientes com o resultado anterior\n",
    "customer_orders_payments = pd.merge(customers, orders_payments, on='customer_id', how='inner')\n",
    "\n",
    "# Ver as primeiras linhas para confirmar que os dados foram combinados corretamente\n",
    "print(customer_orders_payments.head)\n"
   ]
  },
  {
   "cell_type": "code",
   "execution_count": 52,
   "id": "5cd7fc60-c0e3-4ae6-aeec-99578d986a3c",
   "metadata": {},
   "outputs": [
    {
     "name": "stdout",
     "output_type": "stream",
     "text": [
      "  payment_type  num_customers\n",
      "1  credit_card          76795\n",
      "0       boleto          19784\n",
      "4      voucher           5775\n",
      "2   debit_card           1529\n",
      "3  not_defined              3\n"
     ]
    }
   ],
   "source": [
    "# Verificar os métodos de pagamento mais usados por cliente\n",
    "payment_counts = customer_orders_payments.groupby('payment_type')['customer_id'].count().reset_index()\n",
    "\n",
    "# Renomear as colunas para facilitar a interpretação\n",
    "payment_counts.columns = ['payment_type', 'num_customers']\n",
    "\n",
    "# Ordenar os métodos de pagamento por número de clientes\n",
    "payment_counts = payment_counts.sort_values(by='num_customers', ascending=False)\n",
    "\n",
    "# Exibir os dados\n",
    "print(payment_counts)\n"
   ]
  },
  {
   "cell_type": "markdown",
   "id": "e082123f-368e-41d1-96cf-b9bfb9ec020b",
   "metadata": {},
   "source": [
    "## Insigths: \n",
    "\n",
    "- **Cartão de crédito domina**: A maioria (76 mil) prefere pagar com cartão de crédito, o que sugere foco em campanhas de parcelamento e ofertas especiais.\n",
    "\n",
    "- **Boleto ainda é relevante**: Quase 20 mil clientes usam boleto. Oferecer descontos à vista pode atrair esse público.\n",
    "\n",
    "- **Pouco uso de voucher e débito**: São menos populares, mas podem ser explorados com promoções, como cashbacks ou parcerias.\n",
    "\n",
    "**Recomendação**: Aposte em promoções focadas no cartão de crédito e incentivos para pagamentos via boleto e débito."
   ]
  },
  {
   "cell_type": "markdown",
   "id": "fd32ae78-0912-4fdc-85ad-58f813e268d0",
   "metadata": {},
   "source": [
    "---"
   ]
  },
  {
   "cell_type": "markdown",
   "id": "f8c34e7f-5ed5-4229-b8cb-6a60fd7a8057",
   "metadata": {},
   "source": [
    "# Como podemos otimizar os tempos de entrega para melhorar a experiência do cliente? (Cálculo):\n",
    "- \"Como podemos otimizar os tempos de entrega para melhorar a experiência do cliente\"?\n",
    "- Objetivo: Minimizar o tempo médio de entrega e melhorar a satisfação dos clientes."
   ]
  },
  {
   "cell_type": "markdown",
   "id": "c722f43d-86eb-4ca5-bbd4-5beb449e00c0",
   "metadata": {},
   "source": [
    "### Cálculo do Tempo de Entrega"
   ]
  },
  {
   "cell_type": "code",
   "execution_count": 59,
   "id": "4bb13861-f003-4b7c-b5cd-39a9988e59f8",
   "metadata": {},
   "outputs": [
    {
     "name": "stdout",
     "output_type": "stream",
     "text": [
      "Tempo médio de entrega: 8.88 dias\n"
     ]
    }
   ],
   "source": [
    "# Calcular o tempo de entrega em dias (diferença entre data de entrega ao cliente e data de envio)\n",
    "orders['delivery_time'] = (orders['order_delivered_customer_date'] - orders['order_delivered_carrier_date']).dt.days\n",
    "\n",
    "# Remover linhas onde o tempo de entrega é nulo (pedidos não entregues ou dados incompletos)\n",
    "orders = orders[orders['delivery_time'].notnull()]\n",
    "\n",
    "# Exibir o tempo médio de entrega geral\n",
    "avg_delivery_time = orders['delivery_time'].mean()\n",
    "print(f\"Tempo médio de entrega: {avg_delivery_time:.2f} dias\")\n"
   ]
  },
  {
   "cell_type": "markdown",
   "id": "3646efa4-2fc4-4937-847b-fdfe04109d97",
   "metadata": {},
   "source": [
    "- O tempo médio de entrega para os pedidos é de 8,88 dias, o que é relativamente razoável, mas há oportunidades de otimização. Considerando que o objetivo é melhorar a experiência do cliente, reduzir ainda mais esse tempo pode resultar em maior satisfação dos consumidores."
   ]
  },
  {
   "cell_type": "markdown",
   "id": "1aeefca3-1795-4220-bdee-02e7c01936cf",
   "metadata": {},
   "source": [
    "## Análise do Tempo de Entrega por Estado e Cidade"
   ]
  },
  {
   "cell_type": "code",
   "execution_count": 64,
   "id": "7c7106f6-2955-4432-8b57-57615c5ca457",
   "metadata": {},
   "outputs": [
    {
     "name": "stdout",
     "output_type": "stream",
     "text": [
      "Tempo médio de entrega por estado:\n",
      "   customer_state  delivery_time\n",
      "0              AC      17.175000\n",
      "1              AL      20.609572\n",
      "2              AM      23.103448\n",
      "3              AP      23.208955\n",
      "4              BA      15.585688\n",
      "5              CE      17.487099\n",
      "6              DF       9.351923\n",
      "7              ES      11.959398\n",
      "8              GO      11.984670\n",
      "9              MA      17.542538\n",
      "10             MG       8.325672\n",
      "11             MS      12.024251\n",
      "12             MT      14.466140\n",
      "13             PA      19.837209\n",
      "14             PB      16.444874\n",
      "15             PE      14.701820\n",
      "16             PI      15.800420\n",
      "17             PR       8.322771\n",
      "18             RJ      11.561159\n",
      "19             RN      15.270042\n",
      "20             RO      16.102881\n",
      "21             RR      25.219512\n",
      "22             RS      11.624626\n",
      "23             SC      11.154215\n",
      "24             SE      17.504478\n",
      "25             SP       5.144367\n",
      "26             TO      13.817518\n",
      "Tempo médio de entrega por cidade:\n",
      "         customer_city  delivery_time\n",
      "0  abadia dos dourados       8.666667\n",
      "1            abadiania      21.000000\n",
      "2               abaete       7.500000\n",
      "3           abaetetuba      21.454545\n",
      "4              abaiara      31.500000\n"
     ]
    }
   ],
   "source": [
    "# Mesclar os dados de pedidos com o DataFrame de clientes para incluir estado e cidade\n",
    "customers = dataframes['customers']\n",
    "orders_with_customers = pd.merge(orders, customers, on='customer_id')\n",
    "\n",
    "# Calcular o tempo médio de entrega por estado\n",
    "delivery_time_by_state = orders_with_customers.groupby('customer_state')['delivery_time'].mean().reset_index()\n",
    "\n",
    "# Exibir os tempos de entrega por estado\n",
    "print(\"Tempo médio de entrega por estado:\")\n",
    "print(delivery_time_by_state)\n",
    "\n",
    "# Calcular o tempo médio de entrega por cidade\n",
    "delivery_time_by_city = orders_with_customers.groupby('customer_city')['delivery_time'].mean().reset_index()\n",
    "\n",
    "# Exibir os tempos de entrega por cidade\n",
    "print(\"Tempo médio de entrega por cidade:\")\n",
    "print(delivery_time_by_city.head())  # Exibe apenas as primeiras cidades\n"
   ]
  },
  {
   "cell_type": "markdown",
   "id": "0d0e87ca-b298-4c7d-86cd-7f034480caa5",
   "metadata": {},
   "source": [
    "- O estado de São Paulo (SP) tem o menor tempo médio de entrega, com 5,14 dias, o que é esperado por ser um centro logístico importante no Brasil.\n",
    "- Já estados como Roraima (RR) e Amazonas (AM) têm tempos médios bem mais elevados, chegando a 25,22 dias e 23,10 dias, respectivamente. Isso sugere que regiões mais remotas ou com menos infraestrutura enfrentam dificuldades logísticas, impactando negativamente os tempos de entrega.\n",
    "- Outros estados com tempos elevados, como Alagoas (AL) e Amapá (AP), com mais de 20 dias, indicam que podem ser focos para uma possível otimização nas rotas ou parceiros logísticos.\n",
    "- As cidades menores e mais afastadas, como Abadiania e Abaetetuba, apresentam tempos de entrega acima de 21 dias, o que destaca uma necessidade clara de melhorar a logística nessas localidades. Cidades como Abaete e Abadia dos Dourados têm tempos de entrega dentro da média geral, mostrando que nem todas as cidades pequenas são problemáticas."
   ]
  },
  {
   "cell_type": "markdown",
   "id": "5797aca8-b6b9-473c-90d9-711588a5bb5c",
   "metadata": {},
   "source": [
    "## Identificação de Atrasos"
   ]
  },
  {
   "cell_type": "code",
   "execution_count": 73,
   "id": "eeb04bfa-8453-43dd-a3a5-cf9b1be33524",
   "metadata": {},
   "outputs": [
    {
     "name": "stdout",
     "output_type": "stream",
     "text": [
      "Porcentagem de pedidos entregues com atraso: 8.11%\n"
     ]
    }
   ],
   "source": [
    "# Usar .loc[] para garantir que estamos modificando o DataFrame de forma correta\n",
    "orders.loc[:, 'late_delivery'] = (orders['order_delivered_customer_date'] > orders['order_estimated_delivery_date'])\n",
    "\n",
    "# Exibir a porcentagem de pedidos entregues com atraso\n",
    "late_delivery_percentage = (orders['late_delivery'].mean()) * 100\n",
    "print(f\"Porcentagem de pedidos entregues com atraso: {late_delivery_percentage:.2f}%\")\n",
    "\n"
   ]
  },
  {
   "cell_type": "markdown",
   "id": "21ad2517-907c-48e8-bd75-810b0c1c0eea",
   "metadata": {},
   "source": [
    "- 8,11% dos pedidos foram entregues com atraso, ou seja, depois da data estimada. Esse número relativamente baixo é positivo, mas ainda sugere que há margem para melhorias.\n",
    "- Investigar as causas desses atrasos pode ser uma etapa importante para garantir que a empresa melhore suas estimativas e a eficiência das entregas."
   ]
  },
  {
   "cell_type": "markdown",
   "id": "c297a205-dfd2-41b3-bfd3-63bd2197c78b",
   "metadata": {},
   "source": [
    "## Satisfação e Tempo de Entrega"
   ]
  },
  {
   "cell_type": "code",
   "execution_count": 87,
   "id": "4624985d-a467-4f84-b763-bbeca4dfd69a",
   "metadata": {},
   "outputs": [
    {
     "name": "stdout",
     "output_type": "stream",
     "text": [
      "Correlação entre tempo de entrega e avaliação: -0.30\n",
      "Avaliação média por tempo de entrega:\n",
      "     delivery_time  review_score\n",
      "0            -17.0           4.0\n",
      "1             -8.0           4.5\n",
      "2             -7.0           2.0\n",
      "3             -6.0           4.0\n",
      "4             -5.0           4.0\n",
      "..             ...           ...\n",
      "139          187.0           3.0\n",
      "140          188.0           1.0\n",
      "141          190.0           4.0\n",
      "142          194.0           1.0\n",
      "143          205.0           2.0\n",
      "\n",
      "[144 rows x 2 columns]\n"
     ]
    }
   ],
   "source": [
    "# Mesclar os dados de pedidos com as avaliações de clientes\n",
    "orders_with_reviews = pd.merge(orders, order_reviews[['order_id', 'review_score']], on='order_id')\n",
    "\n",
    "# Calcular a correlação entre tempo de entrega e review_score\n",
    "correlation = orders_with_reviews[['delivery_time', 'review_score']].corr()\n",
    "print(f\"Correlação entre tempo de entrega e avaliação: {correlation.loc['delivery_time', 'review_score']:.2f}\")\n",
    "\n",
    "# Analisar a média de avaliação por tempo de entrega\n",
    "review_by_delivery_time = orders_with_reviews.groupby('delivery_time')['review_score'].mean().reset_index()\n",
    "\n",
    "# Exibir a média de avaliação por tempo de entrega\n",
    "print(\"Avaliação média por tempo de entrega:\")\n",
    "print(review_by_delivery_time)\n"
   ]
  },
  {
   "cell_type": "markdown",
   "id": "e146e053-0148-4e37-af72-1efb4998c95b",
   "metadata": {},
   "source": [
    "- A correlação entre o tempo de entrega e a avaliação dos clientes é de -0,30, o que indica uma correlação negativa moderada. Ou seja, quanto maior o tempo de entrega, mais baixas tendem a ser as avaliações dos clientes.\n",
    "- Avaliações com tempo de entrega muito alto (acima de 180 dias) tendem a ser significativamente mais baixas (algumas com notas 1 e 2). Por outro lado, tempos de entrega rápidos (negativos ou próximos de 0) têm avaliações mais altas, sugerindo que uma entrega eficiente impacta diretamente a satisfação do cliente."
   ]
  },
  {
   "cell_type": "markdown",
   "id": "14ea62e9-c238-40fd-9404-7f43cabd87d8",
   "metadata": {},
   "source": [
    "# Como podemos recomendar produtos relevantes aos clientes com base em suas compras anteriores? (Álgebra Linear):\n",
    "\n",
    "Objetivo: Desenvolver um sistema de recomendação eficiente para aumentar o engajamento e o volume de vendas."
   ]
  },
  {
   "cell_type": "code",
   "execution_count": 99,
   "id": "82f41d23-2522-4239-96c4-6b1286574657",
   "metadata": {},
   "outputs": [
    {
     "name": "stdout",
     "output_type": "stream",
     "text": [
      "product_category_name_english     agro_industry_and_commerce  \\\n",
      "customer_id                                                    \n",
      "00012a2ce6f8dcda20d059ce98491703                           0   \n",
      "000161a058600d5901f007fab4c27140                           0   \n",
      "0001fd6190edaaf884bcaf3d49edf079                           0   \n",
      "0002414f95344307404f0ace7a26f1d5                           0   \n",
      "000379cdec625522490c315e70c7a9fb                           0   \n",
      "\n",
      "product_category_name_english     air_conditioning  art  \\\n",
      "customer_id                                               \n",
      "00012a2ce6f8dcda20d059ce98491703                 0    0   \n",
      "000161a058600d5901f007fab4c27140                 0    0   \n",
      "0001fd6190edaaf884bcaf3d49edf079                 0    0   \n",
      "0002414f95344307404f0ace7a26f1d5                 0    0   \n",
      "000379cdec625522490c315e70c7a9fb                 0    0   \n",
      "\n",
      "product_category_name_english     arts_and_craftmanship  audio  auto  baby  \\\n",
      "customer_id                                                                  \n",
      "00012a2ce6f8dcda20d059ce98491703                      0      0     0     0   \n",
      "000161a058600d5901f007fab4c27140                      0      0     0     0   \n",
      "0001fd6190edaaf884bcaf3d49edf079                      0      0     0     1   \n",
      "0002414f95344307404f0ace7a26f1d5                      0      0     0     0   \n",
      "000379cdec625522490c315e70c7a9fb                      0      0     0     0   \n",
      "\n",
      "product_category_name_english     bed_bath_table  books_general_interest  \\\n",
      "customer_id                                                                \n",
      "00012a2ce6f8dcda20d059ce98491703               0                       0   \n",
      "000161a058600d5901f007fab4c27140               0                       0   \n",
      "0001fd6190edaaf884bcaf3d49edf079               0                       0   \n",
      "0002414f95344307404f0ace7a26f1d5               0                       0   \n",
      "000379cdec625522490c315e70c7a9fb               1                       0   \n",
      "\n",
      "product_category_name_english     books_imported  ...  security_and_services  \\\n",
      "customer_id                                       ...                          \n",
      "00012a2ce6f8dcda20d059ce98491703               0  ...                      0   \n",
      "000161a058600d5901f007fab4c27140               0  ...                      0   \n",
      "0001fd6190edaaf884bcaf3d49edf079               0  ...                      0   \n",
      "0002414f95344307404f0ace7a26f1d5               0  ...                      0   \n",
      "000379cdec625522490c315e70c7a9fb               0  ...                      0   \n",
      "\n",
      "product_category_name_english     signaling_and_security  small_appliances  \\\n",
      "customer_id                                                                  \n",
      "00012a2ce6f8dcda20d059ce98491703                       0                 0   \n",
      "000161a058600d5901f007fab4c27140                       0                 0   \n",
      "0001fd6190edaaf884bcaf3d49edf079                       0                 0   \n",
      "0002414f95344307404f0ace7a26f1d5                       0                 0   \n",
      "000379cdec625522490c315e70c7a9fb                       0                 0   \n",
      "\n",
      "product_category_name_english     small_appliances_home_oven_and_coffee  \\\n",
      "customer_id                                                               \n",
      "00012a2ce6f8dcda20d059ce98491703                                      0   \n",
      "000161a058600d5901f007fab4c27140                                      0   \n",
      "0001fd6190edaaf884bcaf3d49edf079                                      0   \n",
      "0002414f95344307404f0ace7a26f1d5                                      0   \n",
      "000379cdec625522490c315e70c7a9fb                                      0   \n",
      "\n",
      "product_category_name_english     sports_leisure  stationery  \\\n",
      "customer_id                                                    \n",
      "00012a2ce6f8dcda20d059ce98491703               0           0   \n",
      "000161a058600d5901f007fab4c27140               0           0   \n",
      "0001fd6190edaaf884bcaf3d49edf079               0           0   \n",
      "0002414f95344307404f0ace7a26f1d5               0           0   \n",
      "000379cdec625522490c315e70c7a9fb               0           0   \n",
      "\n",
      "product_category_name_english     tablets_printing_image  telephony  toys  \\\n",
      "customer_id                                                                 \n",
      "00012a2ce6f8dcda20d059ce98491703                       0          0     1   \n",
      "000161a058600d5901f007fab4c27140                       0          0     0   \n",
      "0001fd6190edaaf884bcaf3d49edf079                       0          0     0   \n",
      "0002414f95344307404f0ace7a26f1d5                       0          0     0   \n",
      "000379cdec625522490c315e70c7a9fb                       0          0     0   \n",
      "\n",
      "product_category_name_english     watches_gifts  \n",
      "customer_id                                      \n",
      "00012a2ce6f8dcda20d059ce98491703              0  \n",
      "000161a058600d5901f007fab4c27140              0  \n",
      "0001fd6190edaaf884bcaf3d49edf079              0  \n",
      "0002414f95344307404f0ace7a26f1d5              0  \n",
      "000379cdec625522490c315e70c7a9fb              0  \n",
      "\n",
      "[5 rows x 71 columns]\n"
     ]
    }
   ],
   "source": [
    "# Unir os produtos com a tradução de categorias\n",
    "products_with_category = pd.merge(products, category_translation, on='product_category_name')\n",
    "\n",
    "# Mesclar com order_items_with_customers para incluir a categoria em cada compra\n",
    "order_items_with_category = pd.merge(order_items_with_customers, \n",
    "                                     products_with_category[['product_id', 'product_category_name_english']], \n",
    "                                     on='product_id')\n",
    "\n",
    "# Criar a matriz cliente-categoria em vez de cliente-produto\n",
    "customer_category_matrix = order_items_with_category.pivot_table(\n",
    "    index='customer_id', \n",
    "    columns='product_category_name_english', \n",
    "    values='order_item_id', \n",
    "    aggfunc='count', \n",
    "    fill_value=0\n",
    ")\n",
    "\n",
    "# Exibir a matriz resultante\n",
    "print(customer_category_matrix.head())\n"
   ]
  },
  {
   "cell_type": "code",
   "execution_count": 109,
   "id": "0616df53-914d-49b0-990a-7f23fcc0f5b7",
   "metadata": {},
   "outputs": [
    {
     "name": "stdout",
     "output_type": "stream",
     "text": [
      "product_category_name_english     agro_industry_and_commerce  \\\n",
      "customer_id                                                    \n",
      "00012a2ce6f8dcda20d059ce98491703                   -0.000147   \n",
      "000161a058600d5901f007fab4c27140                   -0.000052   \n",
      "0001fd6190edaaf884bcaf3d49edf079                   -0.000184   \n",
      "0002414f95344307404f0ace7a26f1d5                   -0.000163   \n",
      "000379cdec625522490c315e70c7a9fb                   -0.000032   \n",
      "\n",
      "product_category_name_english     air_conditioning       art  \\\n",
      "customer_id                                                    \n",
      "00012a2ce6f8dcda20d059ce98491703         -0.000095 -0.000244   \n",
      "000161a058600d5901f007fab4c27140         -0.000034 -0.000087   \n",
      "0001fd6190edaaf884bcaf3d49edf079         -0.000118 -0.000307   \n",
      "0002414f95344307404f0ace7a26f1d5         -0.000104 -0.000273   \n",
      "000379cdec625522490c315e70c7a9fb         -0.000021 -0.000054   \n",
      "\n",
      "product_category_name_english     arts_and_craftmanship     audio      auto  \\\n",
      "customer_id                                                                   \n",
      "00012a2ce6f8dcda20d059ce98491703               0.000719 -0.000106 -0.000005   \n",
      "000161a058600d5901f007fab4c27140               0.000186 -0.000037 -0.000002   \n",
      "0001fd6190edaaf884bcaf3d49edf079               0.000629 -0.000132 -0.000007   \n",
      "0002414f95344307404f0ace7a26f1d5               0.000530 -0.000116 -0.000006   \n",
      "000379cdec625522490c315e70c7a9fb               0.000114 -0.000023 -0.000001   \n",
      "\n",
      "product_category_name_english         baby  bed_bath_table  \\\n",
      "customer_id                                                  \n",
      "00012a2ce6f8dcda20d059ce98491703 -0.000008   -1.391067e-06   \n",
      "000161a058600d5901f007fab4c27140 -0.000003   -4.929579e-07   \n",
      "0001fd6190edaaf884bcaf3d49edf079  0.999990   -1.750926e-06   \n",
      "0002414f95344307404f0ace7a26f1d5 -0.000009   -1.500267e-06   \n",
      "000379cdec625522490c315e70c7a9fb -0.000002    9.999997e-01   \n",
      "\n",
      "product_category_name_english     books_general_interest  books_imported  ...  \\\n",
      "customer_id                                                               ...   \n",
      "00012a2ce6f8dcda20d059ce98491703               -0.000053        0.000169  ...   \n",
      "000161a058600d5901f007fab4c27140               -0.000019        0.000062  ...   \n",
      "0001fd6190edaaf884bcaf3d49edf079               -0.000067        0.000200  ...   \n",
      "0002414f95344307404f0ace7a26f1d5               -0.000058        0.000155  ...   \n",
      "000379cdec625522490c315e70c7a9fb               -0.000012        0.000030  ...   \n",
      "\n",
      "product_category_name_english     security_and_services  \\\n",
      "customer_id                                               \n",
      "00012a2ce6f8dcda20d059ce98491703               0.000650   \n",
      "000161a058600d5901f007fab4c27140               0.000240   \n",
      "0001fd6190edaaf884bcaf3d49edf079               0.000814   \n",
      "0002414f95344307404f0ace7a26f1d5               0.000691   \n",
      "000379cdec625522490c315e70c7a9fb               0.000152   \n",
      "\n",
      "product_category_name_english     signaling_and_security  small_appliances  \\\n",
      "customer_id                                                                  \n",
      "00012a2ce6f8dcda20d059ce98491703               -0.000098         -0.000042   \n",
      "000161a058600d5901f007fab4c27140               -0.000035         -0.000015   \n",
      "0001fd6190edaaf884bcaf3d49edf079               -0.000122         -0.000053   \n",
      "0002414f95344307404f0ace7a26f1d5               -0.000108         -0.000046   \n",
      "000379cdec625522490c315e70c7a9fb               -0.000022         -0.000009   \n",
      "\n",
      "product_category_name_english     small_appliances_home_oven_and_coffee  \\\n",
      "customer_id                                                               \n",
      "00012a2ce6f8dcda20d059ce98491703                               0.000137   \n",
      "000161a058600d5901f007fab4c27140                               0.000050   \n",
      "0001fd6190edaaf884bcaf3d49edf079                               0.000158   \n",
      "0002414f95344307404f0ace7a26f1d5                               0.000119   \n",
      "000379cdec625522490c315e70c7a9fb                               0.000022   \n",
      "\n",
      "product_category_name_english     sports_leisure  stationery  \\\n",
      "customer_id                                                    \n",
      "00012a2ce6f8dcda20d059ce98491703   -2.550635e-06   -0.000010   \n",
      "000161a058600d5901f007fab4c27140   -9.036690e-07   -0.000003   \n",
      "0001fd6190edaaf884bcaf3d49edf079   -3.182171e-06   -0.000012   \n",
      "0002414f95344307404f0ace7a26f1d5   -2.809907e-06   -0.000011   \n",
      "000379cdec625522490c315e70c7a9fb   -5.610591e-07   -0.000002   \n",
      "\n",
      "product_category_name_english     tablets_printing_image  telephony      toys  \\\n",
      "customer_id                                                                     \n",
      "00012a2ce6f8dcda20d059ce98491703                0.000023  -0.000005  0.999994   \n",
      "000161a058600d5901f007fab4c27140                0.000009  -0.000002 -0.000002   \n",
      "0001fd6190edaaf884bcaf3d49edf079                0.000010  -0.000006 -0.000008   \n",
      "0002414f95344307404f0ace7a26f1d5                0.000470  -0.000006 -0.000007   \n",
      "000379cdec625522490c315e70c7a9fb               -0.000005  -0.000001 -0.000001   \n",
      "\n",
      "product_category_name_english     watches_gifts  \n",
      "customer_id                                      \n",
      "00012a2ce6f8dcda20d059ce98491703  -4.032479e-06  \n",
      "000161a058600d5901f007fab4c27140  -1.428589e-06  \n",
      "0001fd6190edaaf884bcaf3d49edf079  -5.033486e-06  \n",
      "0002414f95344307404f0ace7a26f1d5  -4.379307e-06  \n",
      "000379cdec625522490c315e70c7a9fb  -8.884412e-07  \n",
      "\n",
      "[5 rows x 71 columns]\n"
     ]
    }
   ],
   "source": [
    "from scipy.sparse import csr_matrix\n",
    "from scipy.sparse.linalg import svds\n",
    "import numpy as np\n",
    "\n",
    "# Converter a matriz cliente-categoria para o tipo float explicitamente\n",
    "customer_category_matrix = customer_category_matrix.astype(float)\n",
    "\n",
    "# Normalizar a matriz cliente-categoria subtraindo a média de cada cliente\n",
    "customer_category_matrix_mean = customer_category_matrix.mean(axis=1)\n",
    "customer_category_matrix_demeaned = customer_category_matrix.subtract(customer_category_matrix_mean, axis='rows')\n",
    "\n",
    "# Converter o DataFrame para uma matriz esparsa (csr_matrix)\n",
    "customer_category_matrix_sparse = csr_matrix(customer_category_matrix_demeaned.values)\n",
    "\n",
    "# Aplicar SVD à matriz esparsa\n",
    "U, sigma, Vt = svds(customer_category_matrix_sparse, k=50)\n",
    "\n",
    "# Converter sigma para uma matriz diagonal\n",
    "sigma = np.diag(sigma)\n",
    "\n",
    "# Reconstruir a matriz prevista\n",
    "predicted_ratings = np.dot(np.dot(U, sigma), Vt) + customer_category_matrix_mean.values.reshape(-1, 1)\n",
    "\n",
    "# Converter a matriz prevista em DataFrame\n",
    "predicted_ratings_df = pd.DataFrame(predicted_ratings, columns=customer_category_matrix.columns, index=customer_category_matrix.index)\n",
    "\n",
    "# Exibir algumas previsões\n",
    "print(predicted_ratings_df.head())\n"
   ]
  },
  {
   "cell_type": "markdown",
   "id": "8774d631-ebd9-47f1-b4e7-d7758b1e7280",
   "metadata": {},
   "source": [
    "O SVD (Decomposição de Valores Singulares) foi aplicado, e agora temos a matriz prevista que representa as preferências esperadas dos clientes para cada categoria de produto. No entanto, Podemos notar que muitos valores são pequenos ou negativos, o que é esperado em uma matriz prevista, mas não é útil para recomendar diretamente produtos.\n",
    "Irei filtrar os valores negativos e focar nas categorias com os maiores valores de previsão para cada cliente. Isso permitirá recomendar as categorias que provavelmente serão mais interessantes para o cliente, com base nas compras anteriores."
   ]
  },
  {
   "cell_type": "code",
   "execution_count": 111,
   "id": "ccd331ee-af8c-4562-8a9b-00e060b36f12",
   "metadata": {},
   "outputs": [
    {
     "name": "stdout",
     "output_type": "stream",
     "text": [
      "Categorias recomendadas para o cliente 00012a2ce6f8dcda20d059ce98491703:\n",
      "product_category_name_english\n",
      "toys                         0.999994\n",
      "arts_and_craftmanship        0.000719\n",
      "security_and_services        0.000650\n",
      "fashion_childrens_clothes    0.000614\n",
      "la_cuisine                   0.000566\n",
      "Name: 00012a2ce6f8dcda20d059ce98491703, dtype: float64\n"
     ]
    }
   ],
   "source": [
    "def recomendar_categorias(customer_id, num_recommendations=5):\n",
    "    # Obter as previsões para o cliente\n",
    "    cliente_predicoes = predicted_ratings_df.loc[customer_id].sort_values(ascending=False)\n",
    "    \n",
    "    # Filtrar valores negativos e categorias já compradas (valores próximos de 1 são as compras)\n",
    "    cliente_predicoes = cliente_predicoes[cliente_predicoes > 0]\n",
    "\n",
    "    # Recomendar as categorias com as maiores previsões\n",
    "    recomendacoes = cliente_predicoes.head(num_recommendations)\n",
    "    \n",
    "    return recomendacoes\n",
    "\n",
    "# Exemplo de recomendação para um cliente específico\n",
    "customer_id = '00012a2ce6f8dcda20d059ce98491703'  # Substitua por um 'customer_id' válido\n",
    "recomendacoes = recomendar_categorias(customer_id)\n",
    "print(f\"Categorias recomendadas para o cliente {customer_id}:\")\n",
    "print(recomendacoes)\n"
   ]
  },
  {
   "cell_type": "markdown",
   "id": "c8ff3f54-e1a9-4168-9491-c85d83bb2840",
   "metadata": {},
   "source": [
    "O sistema de recomendação está funcionando corretamente e sugerindo categorias de produtos para o cliente com base em suas preferências latentes. Para o cliente `00012a2ce6f8dcda20d059ce98491703`, as categorias recomendadas são:\n",
    "\n",
    "1. **Toys** (0.999994)\n",
    "2. **Arts and Craftmanship** (0.000719)\n",
    "3. **Security and Services** (0.000650)\n",
    "4. **Fashion Children's Clothes** (0.000614)\n",
    "5. **La Cuisine** (0.000566)\n",
    "\n",
    "Essas recomendações são baseadas nas previsões geradas pelo SVD, e a categoria \"Toys\" é claramente a mais forte, com um valor quase igual a 1, sugerindo que o cliente tem alta probabilidade de se interessar por produtos dessa categoria."
   ]
  },
  {
   "cell_type": "markdown",
   "id": "655ad1e9-a301-4d74-b152-1b8a012bbc50",
   "metadata": {},
   "source": [
    "---"
   ]
  },
  {
   "cell_type": "code",
   "execution_count": 162,
   "id": "43b65830-c675-4c37-9e7e-222b02e92711",
   "metadata": {},
   "outputs": [
    {
     "name": "stdout",
     "output_type": "stream",
     "text": [
      "Dimensão dos dados de teste (antes de alinhar): (21403, 70)\n",
      "Dimensão das previsões (antes de alinhar): (79491, 71)\n",
      "Dimensão dos dados de teste (após alinhar): (3638, 70)\n",
      "Dimensão das previsões (após alinhar): (3638, 71)\n"
     ]
    }
   ],
   "source": [
    "# Verificando as dimensões dos dados de teste e previsões\n",
    "print(f\"Dimensão dos dados de teste (antes de alinhar): {customer_category_matrix_test.shape}\")\n",
    "print(f\"Dimensão das previsões (antes de alinhar): {predicted_ratings_train_df.shape}\")\n",
    "\n",
    "# alinhando os dados de teste e previsões\n",
    "common_index = customer_category_matrix_test.index.intersection(predicted_ratings_train_df.index)\n",
    "\n",
    "# Reindexar ambos os DataFrames para garantir alinhamento\n",
    "customer_category_matrix_test_aligned = customer_category_matrix_test.loc[common_index]\n",
    "predicted_ratings_test_aligned = predicted_ratings_train_df.loc[common_index]\n",
    "\n",
    "print(f\"Dimensão dos dados de teste (após alinhar): {customer_category_matrix_test_aligned.shape}\")\n",
    "print(f\"Dimensão das previsões (após alinhar): {predicted_ratings_test_aligned.shape}\")\n"
   ]
  },
  {
   "cell_type": "code",
   "execution_count": 164,
   "id": "20b6af6f-85b6-4700-8fea-75d3f4aa4af5",
   "metadata": {},
   "outputs": [
    {
     "name": "stdout",
     "output_type": "stream",
     "text": [
      "product_category_name_english\n",
      "agro_industry_and_commerce    0\n",
      "air_conditioning              0\n",
      "art                           0\n",
      "arts_and_craftmanship         0\n",
      "audio                         0\n",
      "                             ..\n",
      "stationery                    0\n",
      "tablets_printing_image        0\n",
      "telephony                     0\n",
      "toys                          0\n",
      "watches_gifts                 0\n",
      "Length: 70, dtype: int64\n",
      "product_category_name_english\n",
      "agro_industry_and_commerce    0\n",
      "air_conditioning              0\n",
      "art                           0\n",
      "arts_and_craftmanship         0\n",
      "audio                         0\n",
      "                             ..\n",
      "stationery                    0\n",
      "tablets_printing_image        0\n",
      "telephony                     0\n",
      "toys                          0\n",
      "watches_gifts                 0\n",
      "Length: 71, dtype: int64\n",
      "Dimensão dos dados de teste (após tratar valores ausentes): (3638, 70)\n",
      "Dimensão das previsões (após tratar valores ausentes): (3638, 71)\n"
     ]
    }
   ],
   "source": [
    "# Verifique se há valores faltantes nas matrizes alinhadas\n",
    "print(customer_category_matrix_test_aligned.isnull().sum())\n",
    "print(predicted_ratings_test_aligned.isnull().sum())\n",
    "\n",
    "# Se houver valores faltantes, podemos removê-los ou preenchê-los\n",
    "customer_category_matrix_test_aligned = customer_category_matrix_test_aligned.dropna()\n",
    "predicted_ratings_test_aligned = predicted_ratings_test_aligned.dropna()\n",
    "\n",
    "# Verificar novamente as dimensões após o tratamento de valores ausentes\n",
    "print(f\"Dimensão dos dados de teste (após tratar valores ausentes): {customer_category_matrix_test_aligned.shape}\")\n",
    "print(f\"Dimensão das previsões (após tratar valores ausentes): {predicted_ratings_test_aligned.shape}\")\n"
   ]
  },
  {
   "cell_type": "code",
   "execution_count": 168,
   "id": "000ce984-512b-491d-affd-0693e7b63846",
   "metadata": {},
   "outputs": [
    {
     "name": "stdout",
     "output_type": "stream",
     "text": [
      "Colunas presentes nas previsões, mas não no teste: {'fashion_childrens_clothes'}\n",
      "Colunas presentes no teste, mas não nas previsões: set()\n"
     ]
    }
   ],
   "source": [
    "# Verificar quais colunas estão causando a discrepância\n",
    "colunas_previsoes_nao_no_teste = set(predicted_ratings_test_aligned.columns) - set(customer_category_matrix_test_aligned.columns)\n",
    "colunas_teste_nao_nas_previsoes = set(customer_category_matrix_test_aligned.columns) - set(predicted_ratings_test_aligned.columns)\n",
    "\n",
    "print(f\"Colunas presentes nas previsões, mas não no teste: {colunas_previsoes_nao_no_teste}\")\n",
    "print(f\"Colunas presentes no teste, mas não nas previsões: {colunas_teste_nao_nas_previsoes}\")\n",
    "\n"
   ]
  },
  {
   "cell_type": "code",
   "execution_count": 170,
   "id": "737f38ae-1818-4d22-a680-4398af5203bd",
   "metadata": {},
   "outputs": [
    {
     "name": "stdout",
     "output_type": "stream",
     "text": [
      "Dimensões ajustadas dos dados de teste: (3638, 71)\n",
      "Dimensões ajustadas das previsões: (3638, 71)\n"
     ]
    }
   ],
   "source": [
    "# Adicionar a coluna 'fashion_childrens_clothes' ao conjunto de teste com valores 0\n",
    "customer_category_matrix_test_aligned['fashion_childrens_clothes'] = 0\n",
    "\n",
    "# Verificar novamente as dimensões para garantir o alinhamento\n",
    "print(f\"Dimensões ajustadas dos dados de teste: {customer_category_matrix_test_aligned.shape}\")\n",
    "print(f\"Dimensões ajustadas das previsões: {predicted_ratings_test_aligned.shape}\")\n"
   ]
  },
  {
   "cell_type": "code",
   "execution_count": 172,
   "id": "6e30d157-c2ac-4acc-a9ed-40dabc52ce65",
   "metadata": {},
   "outputs": [
    {
     "name": "stdout",
     "output_type": "stream",
     "text": [
      "Dimensão dos valores de teste filtrados: (3653,)\n",
      "Dimensão dos valores previstos filtrados: (3653,)\n",
      "RMSE para as previsões no conjunto de teste: 1.1906\n"
     ]
    }
   ],
   "source": [
    "# Aplicar a máscara onde há compras reais (valores > 0)\n",
    "test_values = customer_category_matrix_test_aligned.values.flatten()\n",
    "predicted_test_values = predicted_ratings_test_aligned.values.flatten()\n",
    "\n",
    "# Criar a máscara onde os valores de teste são maiores que 0\n",
    "mask = test_values > 0\n",
    "\n",
    "# Garantir que as dimensões estão corretas após a aplicação da máscara\n",
    "print(f\"Dimensão dos valores de teste filtrados: {test_values[mask].shape}\")\n",
    "print(f\"Dimensão dos valores previstos filtrados: {predicted_test_values[mask].shape}\")\n",
    "\n",
    "# Calcular o RMSE\n",
    "from sklearn.metrics import mean_squared_error\n",
    "from math import sqrt\n",
    "\n",
    "rmse = sqrt(mean_squared_error(test_values[mask], predicted_test_values[mask]))\n",
    "print(f'RMSE para as previsões no conjunto de teste: {rmse:.4f}')\n"
   ]
  },
  {
   "cell_type": "code",
   "execution_count": 176,
   "id": "e4005c6d-379e-477e-b5c3-ef018a93631e",
   "metadata": {},
   "outputs": [
    {
     "name": "stdout",
     "output_type": "stream",
     "text": [
      "Dimensões da matriz de cliente-categoria: (97256, 71)\n"
     ]
    }
   ],
   "source": [
    "print(f\"Dimensões da matriz de cliente-categoria: {customer_category_matrix_sparse.shape}\")\n"
   ]
  },
  {
   "cell_type": "code",
   "execution_count": 180,
   "id": "1cc106d5-a9e0-4390-895f-41232ff86882",
   "metadata": {},
   "outputs": [
    {
     "name": "stdout",
     "output_type": "stream",
     "text": [
      "RMSE para k=10: 1.3963\n",
      "RMSE para k=15: 1.4105\n",
      "RMSE para k=25: 1.4566\n",
      "RMSE para k=30: 1.4705\n"
     ]
    }
   ],
   "source": [
    "k_values = [10, 15, 25, 30]\n",
    "\n",
    "for k in k_values:\n",
    "    U, sigma, Vt = svds(customer_category_matrix_sparse, k=k)\n",
    "    sigma = np.diag(sigma)\n",
    "    predicted_ratings = np.dot(np.dot(U, sigma), Vt) + customer_category_matrix_mean.values.reshape(-1, 1)\n",
    "    predicted_ratings_df = pd.DataFrame(predicted_ratings, columns=customer_category_matrix.columns, index=customer_category_matrix.index)\n",
    "    \n",
    "    # Calcular RMSE\n",
    "    test_values = customer_category_matrix_test_aligned.values.flatten()\n",
    "    predicted_test_values = predicted_ratings_df.reindex(customer_category_matrix_test_aligned.index).values.flatten()\n",
    "    mask = test_values > 0\n",
    "    \n",
    "    rmse = sqrt(mean_squared_error(test_values[mask], predicted_test_values[mask]))\n",
    "    print(f'RMSE para k={k}: {rmse:.4f}')\n"
   ]
  },
  {
   "cell_type": "markdown",
   "id": "dc33d200-c155-4db2-989e-d53b4f373a57",
   "metadata": {},
   "source": [
    "---"
   ]
  },
  {
   "cell_type": "markdown",
   "id": "e9ff7941-a7c5-4a47-9439-e9d636aecf24",
   "metadata": {},
   "source": [
    "# Validar o modelo"
   ]
  },
  {
   "cell_type": "code",
   "execution_count": 195,
   "id": "6c17d86a-39dd-4a7d-a0dd-c50ceeaace57",
   "metadata": {},
   "outputs": [
    {
     "name": "stdout",
     "output_type": "stream",
     "text": [
      "Produtos recomendados para o cliente 0: {'baby', 'musical_instruments', 'toys', 'cool_stuff', 'arts_and_craftmanship'}\n"
     ]
    }
   ],
   "source": [
    "# Criar o modelo KNN de produtos\n",
    "model_knn_products = NearestNeighbors(metric='cosine', algorithm='brute')\n",
    "model_knn_products.fit(product_customer_matrix.values)  \n",
    "\n",
    "# Encontrar os produtos mais similares aos que o cliente 0 já comprou\n",
    "cliente_0_compras = np.where(customer_category_matrix.iloc[0, :] > 0)[0]  # Produtos que o cliente 0 comprou\n",
    "\n",
    "# Vamos recomendar produtos semelhantes aos que o cliente 0 comprou\n",
    "produtos_recomendados = set()\n",
    "\n",
    "for product_index in cliente_0_compras:\n",
    "    # Passar os valores dos produtos comprados pelo cliente 0, sem rótulos\n",
    "    distances, indices = model_knn_products.kneighbors(product_customer_matrix.values[product_index, :].reshape(1, -1), n_neighbors=5)\n",
    "    produtos_similares = product_customer_matrix.index[indices.flatten()]\n",
    "    produtos_recomendados.update(produtos_similares)\n",
    "\n",
    "print(f\"Produtos recomendados para o cliente 0: {produtos_recomendados}\")\n"
   ]
  },
  {
   "cell_type": "code",
   "execution_count": 199,
   "id": "360702c2-5558-4bb1-956e-1ad3c42dc0bb",
   "metadata": {},
   "outputs": [
    {
     "name": "stdout",
     "output_type": "stream",
     "text": [
      "Produtos recomendados para o cliente 0: {'baby', 'musical_instruments', 'toys', 'cool_stuff', 'arts_and_craftmanship'}\n",
      "Produtos recomendados para o cliente 1: {'perfumery', 'health_beauty', 'stationery', 'drinks', 'food'}\n",
      "Produtos recomendados para o cliente 2: {'baby', 'toys', 'la_cuisine', 'furniture_decor', 'cool_stuff'}\n",
      "Produtos recomendados para o cliente 3: {'baby', 'toys', 'tablets_printing_image', 'cool_stuff', 'cine_photo'}\n",
      "Produtos recomendados para o cliente 4: {'baby', 'bed_bath_table', 'market_place', 'furniture_decor', 'home_confort'}\n",
      "Produtos recomendados para o cliente 5: {'sports_leisure', 'health_beauty', 'office_furniture', 'drinks', 'construction_tools_lights'}\n",
      "Produtos recomendados para o cliente 6: {'baby', 'fashion_bags_accessories', 'fashion_sport', 'stationery', 'fashion_childrens_clothes'}\n",
      "Produtos recomendados para o cliente 7: {'baby', 'musical_instruments', 'toys', 'cool_stuff', 'arts_and_craftmanship'}\n",
      "Produtos recomendados para o cliente 8: {'baby', 'fashion_bags_accessories', 'fashion_sport', 'stationery', 'fashion_childrens_clothes'}\n",
      "Produtos recomendados para o cliente 9: {'pet_shop', 'construction_tools_construction', 'costruction_tools_garden', 'consoles_games', 'food'}\n"
     ]
    }
   ],
   "source": [
    "# Testar o modelo com vários clientes\n",
    "for cliente_id in range(10):  \n",
    "    cliente_compras = np.where(customer_category_matrix.iloc[cliente_id, :] > 0)[0]  # Produtos que o cliente comprou\n",
    "    produtos_recomendados = set()\n",
    "\n",
    "    for product_index in cliente_compras:\n",
    "        distances, indices = model_knn_products.kneighbors(product_customer_matrix.values[product_index, :].reshape(1, -1), n_neighbors=5)\n",
    "        produtos_similares = product_customer_matrix.index[indices.flatten()]\n",
    "        produtos_recomendados.update(produtos_similares)\n",
    "\n",
    "    print(f\"Produtos recomendados para o cliente {cliente_id}: {produtos_recomendados}\")\n"
   ]
  },
  {
   "cell_type": "markdown",
   "id": "1832923a-9318-4631-9f60-00db448ad4c2",
   "metadata": {},
   "source": [
    "---"
   ]
  },
  {
   "cell_type": "markdown",
   "id": "caed44a2-888c-4df1-a386-b4ffe0098348",
   "metadata": {},
   "source": [
    "O SVD (Decomposição de Valores Singulares) foi aplicado para decompor a matriz de interações entre clientes e categorias de produtos, resultando em uma matriz prevista que estima as preferências de cada cliente por diferentes categorias. A partir dessa matriz, conseguimos identificar as categorias mais prováveis de interesse para os clientes, considerando suas compras anteriores. \n",
    "\n",
    "No entanto, ao observar os valores previstos, notamos que algumas previsões podem ser pequenas ou até negativas, o que, apesar de comum em modelos baseados em decomposição matricial, não é diretamente útil para recomendar produtos. Para melhorar a qualidade das recomendações, focarei nas categorias com os maiores valores previstos, filtrando os valores negativos.\n",
    "\n",
    "Com essa abordagem, as categorias com maior pontuação para cada cliente serão destacadas como as mais relevantes, oferecendo uma recomendação personalizada baseada em padrões latentes de comportamento de compra. \n",
    "\n",
    "Por exemplo, para o cliente 0, as categorias mais relevantes recomendadas foram **baby**, **musical_instruments**, **toys**, **cool_stuff**, e **arts_and_craftmanship**. Já o cliente 1 teve como principais recomendações as categorias **perfumery**, **health_beauty**, **stationery**, **drinks**, e **food**, refletindo um perfil de consumo voltado ao bem-estar e alimentação.\n",
    "\n",
    "Essas recomendações são resultado da combinação do SVD com o processo de filtragem, focando em categorias que mais provavelmente interessam ao cliente, com base nas interações passadas.\n",
    "\n",
    "---\n",
    "\n",
    "### Explicação das Etapas:\n",
    "1. **Aplicação do SVD**: O SVD foi aplicado à matriz de interação cliente-categoria para decompor as preferências latentes de cada cliente por diferentes produtos.\n",
    "2. **Geração da Matriz Prevista**: Após a decomposição, uma matriz de previsões foi gerada, estimando o grau de interesse de cada cliente em diversas categorias de produtos.\n",
    "3. **Filtragem de Valores Negativos**: Como alguns valores previstos podem ser pequenos ou negativos, o foco será nas previsões mais altas, filtrando aquelas que são menos relevantes ou negativas.\n",
    "4. **Recomendações**: Com base nos valores previstos mais altos, foram feitas recomendações personalizadas para cada cliente."
   ]
  },
  {
   "cell_type": "markdown",
   "id": "2bdaf84f-157a-4180-aa30-72817dd27e9f",
   "metadata": {},
   "source": [
    "# Como podemos segmentar os clientes de forma eficaz para criar campanhas de marketing direcionadas? (ML)\n",
    "\n",
    "Objetivo: Identificar diferentes grupos de clientes para aplicar estratégias de marketing personalizadas."
   ]
  },
  {
   "cell_type": "code",
   "execution_count": 121,
   "id": "ce2ff326-c957-4d61-9027-d60c79e8dc3a",
   "metadata": {},
   "outputs": [],
   "source": [
    "from sklearn.preprocessing import StandardScaler\n",
    "\n",
    "# Mesclar dados de pedidos com pagamentos para calcular o valor total gasto por cliente\n",
    "orders_payments = pd.merge(orders, order_payments, on='order_id')\n",
    "\n",
    "# Criar DataFrame com agregações relevantes para cada cliente\n",
    "customer_data = orders_payments.groupby('customer_id').agg({\n",
    "    'order_id': 'count',  # Quantidade de pedidos (frequência)\n",
    "    'payment_value': 'sum',  # Valor total gasto\n",
    "    'order_purchase_timestamp': 'max'  # Data da última compra\n",
    "}).reset_index()\n",
    "\n",
    "# Renomear colunas para clareza\n",
    "customer_data.columns = ['customer_id', 'num_orders', 'total_spent', 'last_purchase']\n",
    "\n",
    "# Calcular recência: número de dias desde a última compra até a data de referência\n",
    "reference_date = pd.to_datetime('2023-12-31')  # Data de referência (pode ser ajustada)\n",
    "customer_data['recency'] = (reference_date - pd.to_datetime(customer_data['last_purchase'])).dt.days\n",
    "\n",
    "# Remover a coluna de última compra, pois não será usada diretamente\n",
    "customer_data = customer_data.drop('last_purchase', axis=1)\n",
    "\n",
    "# Padronizar os dados usando StandardScaler\n",
    "scaler = StandardScaler()\n",
    "customer_data_scaled = scaler.fit_transform(customer_data[['num_orders', 'total_spent', 'recency']])\n"
   ]
  },
  {
   "cell_type": "code",
   "execution_count": 127,
   "id": "80298031-f0cd-44d1-8f60-d2ec793d9e65",
   "metadata": {},
   "outputs": [
    {
     "data": {
      "image/png": "[encoded data removed]",
      "text/plain": [
       "<Figure size 640x480 with 1 Axes>"
      ]
     },
     "metadata": {},
     "output_type": "display_data"
    }
   ],
   "source": [
    "from sklearn.cluster import KMeans\n",
    "\n",
    "# Método do cotovelo para encontrar o número ideal de clusters\n",
    "sse = []\n",
    "k_values = range(1, 11)\n",
    "for k in k_values:\n",
    "    kmeans = KMeans(n_clusters=k, random_state=42)\n",
    "    kmeans.fit(customer_data_scaled)\n",
    "    sse.append(kmeans.inertia_)\n",
    "\n",
    "# Plotar o gráfico do Método do Cotovelo\n",
    "plt.plot(k_values, sse, marker='o')\n",
    "plt.xlabel('Número de Clusters')\n",
    "plt.ylabel('SSE (Soma dos Quadrados dos Erros)')\n",
    "plt.title('Método do Cotovelo')\n",
    "plt.show()\n"
   ]
  },
  {
   "cell_type": "code",
   "execution_count": 133,
   "id": "789abc93-4fff-4e78-8ef9-f8451debf356",
   "metadata": {},
   "outputs": [
    {
     "name": "stdout",
     "output_type": "stream",
     "text": [
      "                        customer_id  num_orders  total_spent  recency  cluster\n",
      "0  00012a2ce6f8dcda20d059ce98491703           1       114.74     2237        1\n",
      "1  000161a058600d5901f007fab4c27140           1        67.41     2358        1\n",
      "2  0001fd6190edaaf884bcaf3d49edf079           1       195.42     2496        1\n",
      "3  0002414f95344307404f0ace7a26f1d5           1       179.35     2327        1\n",
      "4  000379cdec625522490c315e70c7a9fb           1       107.01     2098        0\n"
     ]
    }
   ],
   "source": [
    "# Definir o número de clusters baseado no método do cotovelo\n",
    "k = 5 \n",
    "\n",
    "# Aplicar K-Means\n",
    "kmeans = KMeans(n_clusters=k, random_state=42)\n",
    "customer_data['cluster'] = kmeans.fit_predict(customer_data_scaled)\n",
    "\n",
    "# Exibir os primeiros clientes com seus clusters\n",
    "print(customer_data.head())\n"
   ]
  },
  {
   "cell_type": "code",
   "execution_count": 131,
   "id": "5c04dc00-ba70-46cb-9857-17eaceda4a8d",
   "metadata": {},
   "outputs": [
    {
     "name": "stdout",
     "output_type": "stream",
     "text": [
      "   cluster  num_orders  total_spent      recency\n",
      "0        0    1.000000   133.840468  2078.412978\n",
      "1        1    1.000000   132.126911  2338.719327\n",
      "2        2    7.694118   174.157353  2239.376471\n",
      "3        3    2.190353   132.923660  2210.747423\n",
      "4        4    1.026748  1119.565606  2192.886591\n"
     ]
    }
   ],
   "source": [
    "# Analisar as médias de cada cluster\n",
    "cluster_analysis = customer_data.groupby('cluster').agg({\n",
    "    'num_orders': 'mean',\n",
    "    'total_spent': 'mean',\n",
    "    'recency': 'mean'\n",
    "}).reset_index()\n",
    "\n",
    "print(cluster_analysis)\n"
   ]
  },
  {
   "cell_type": "markdown",
   "id": "a4958ab9-49f9-421f-9041-e2344456f78c",
   "metadata": {},
   "source": [
    "### Com base nos resultados da segmentação de clientes, podemos observar padrões distintos entre os grupos. \n",
    "\n",
    "Os **Clusters 0 e 1** incluem clientes que realizaram apenas uma compra, com um total gasto semelhante, em torno de R$ 133. Embora esses clientes tenham um valor de recência considerável, o que indica que não compraram recentemente, eles representam uma oportunidade para campanhas de reativação. A ideia é incentivá-los a voltar a comprar por meio de ofertas atraentes e promoções.\n",
    "\n",
    "O **Cluster 2** se destaca por ter clientes mais engajados, com uma média de 7,69 pedidos. Apesar do valor total gasto ser um pouco mais baixo, esses clientes têm um potencial alto para retornar, especialmente se forem incentivados com promoções direcionadas a produtos que já compraram anteriormente.\n",
    "\n",
    "Já o **Cluster 3** apresenta uma frequência de compras ligeiramente superior, mas também um total gasto similar aos Clusters 0 e 1. Isso sugere que esses clientes podem ser motivados a aumentar a frequência de suas compras através de campanhas que destacam produtos populares.\n",
    "\n",
    "Por outro lado, o **Cluster 4** é único, pois abrange clientes que fazem compras grandes e esporádicas, com um total gasto médio de R$ 1119,57, apesar de realizarem apenas uma compra. Para esse grupo, é interessante implementar estratégias de upsell e cross-sell, promovendo produtos de alto valor que possam complementar suas compras anteriores.\n",
    "\n",
    "Esses insights nos permitem desenvolver estratégias de marketing personalizadas para cada grupo, visando aumentar o engajamento e as vendas. Ao focar nas características de cada cluster, podemos criar campanhas direcionadas que atendam melhor às necessidades e comportamentos dos clientes."
   ]
  },
  {
   "cell_type": "code",
   "execution_count": 141,
   "id": "5cbab283-1629-476e-9921-8715b84be491",
   "metadata": {},
   "outputs": [
    {
     "name": "stdout",
     "output_type": "stream",
     "text": [
      "cluster               0        1     2       3      4\n",
      "customer_state                                       \n",
      "AC                 29.0     46.0   0.0     2.0    4.0\n",
      "AL                191.0    178.0   0.0    11.0   33.0\n",
      "AM                 69.0     68.0   0.0     4.0    7.0\n",
      "AP                 36.0     26.0   0.0     2.0    4.0\n",
      "BA               1741.0   1359.0   9.0   139.0  132.0\n",
      "CE                663.0    564.0   2.0    41.0   66.0\n",
      "DF               1214.0    806.0   1.0    56.0   63.0\n",
      "ES               1046.0    881.0   1.0    57.0   48.0\n",
      "GO               1067.0    833.0   7.0    51.0   62.0\n",
      "MA                359.0    342.0   0.0    17.0   29.0\n",
      "MG               6144.0   4847.0  16.0   324.0  304.0\n",
      "MS                407.0    264.0   1.0    14.0   29.0\n",
      "MT                476.0    363.0   1.0    20.0   47.0\n",
      "PA                444.0    437.0   0.0    30.0   64.0\n",
      "PB                261.0    211.0   1.0    22.0   41.0\n",
      "PE                861.0    664.0   2.0    56.0   69.0\n",
      "PI                250.0    188.0   0.0    26.0   31.0\n",
      "PR               2741.0   2020.0  11.0   133.0  140.0\n",
      "RJ               6503.0   5571.0  32.0   366.0  380.0\n",
      "RN                243.0    195.0   3.0    17.0   27.0\n",
      "RO                107.0    125.0   0.0     7.0   14.0\n",
      "RR                 23.0     20.0   0.0     0.0    3.0\n",
      "RS               2769.0   2409.0   7.0   135.0  146.0\n",
      "SC               1886.0   1544.0   1.0    93.0  113.0\n",
      "SE                156.0    164.0   0.0     9.0   21.0\n",
      "SP              23913.0  15770.0  74.0  1076.0  912.0\n",
      "TO                140.0    116.0   1.0     8.0   15.0\n"
     ]
    }
   ],
   "source": [
    "# Mesclar dados de clientes com os clusters identificados\n",
    "customers_with_clusters = pd.merge(customers, customer_data[['customer_id', 'cluster']], on='customer_id')\n",
    "\n",
    "# Analisar a distribuição dos clusters por estado\n",
    "cluster_by_state = customers_with_clusters.groupby(['customer_state', 'cluster']).size().unstack().fillna(0)\n",
    "\n",
    "# Exibir a tabela resultante\n",
    "print(cluster_by_state)\n"
   ]
  },
  {
   "cell_type": "markdown",
   "id": "f736e418-079a-4ba5-8e92-12ed5411dccf",
   "metadata": {},
   "source": [
    "O modelo de clusterização foi aplicado, e agora temos a distribuição dos clientes por estado e cluster, o que nos permite identificar perfis distintos de consumo por região. A partir desses dados, podemos observar que os estados com maior número de clientes, como **São Paulo (SP)**, **Rio de Janeiro (RJ)**, e **Minas Gerais (MG)**, possuem uma forte concentração de clientes nos **Clusters 0** e **1**. No entanto, em estados menores, como **Roraima (RR)**, **Amapá (AP)**, e **Rondônia (RO)**, os clientes estão predominantemente nos **Clusters 0** e **1**, com pouca ou nenhuma presença nos outros clusters.\n",
    "\n",
    "Podemos notar que estados como **SP** e **RJ** têm uma maior diversidade de perfis, com clientes distribuídos em todos os clusters, incluindo uma participação significativa no **Cluster 4**, que aparece de forma mais expressiva nesses estados. Isso pode indicar a presença de um perfil de cliente mais específico e sofisticado nessas regiões.\n",
    "\n",
    "Os estados do Norte e Nordeste, como **Alagoas (AL)**, **Amazonas (AM)**, e **Pará (PA)**, apresentam uma distribuição mais homogênea nos **Clusters 0** e **1**, enquanto os outros clusters praticamente não têm representação. Essa homogeneidade pode sugerir que as preferências de consumo nesses estados são menos diversificadas em comparação com estados do Sul e Sudeste.\n",
    "\n",
    "Essas observações permitem recomendar estratégias de segmentação regional, focando em campanhas direcionadas para os perfis de consumo predominantes em cada estado."
   ]
  },
  {
   "cell_type": "code",
   "execution_count": null,
   "id": "3304ef86-68fb-40ec-808c-7da8e578f6ae",
   "metadata": {},
   "outputs": [],
   "source": []
  }
 ],
 "metadata": {
  "kernelspec": {
   "display_name": "Python 3 (ipykernel)",
   "language": "python",
   "name": "python3"
  },
  "language_info": {
   "codemirror_mode": {
    "name": "ipython",
    "version": 3
   },
   "file_extension": ".py",
   "mimetype": "text/x-python",
   "name": "python",
   "nbconvert_exporter": "python",
   "pygments_lexer": "ipython3",
   "version": "3.12.4"
  }
 },
 "nbformat": 4,
 "nbformat_minor": 5
}
